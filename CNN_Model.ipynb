{
  "metadata": {
    "kernelspec": {
      "language": "python",
      "display_name": "Python 3",
      "name": "python3"
    },
    "language_info": {
      "name": "python",
      "version": "3.10.12",
      "mimetype": "text/x-python",
      "codemirror_mode": {
        "name": "ipython",
        "version": 3
      },
      "pygments_lexer": "ipython3",
      "nbconvert_exporter": "python",
      "file_extension": ".py"
    },
    "kaggle": {
      "accelerator": "nvidiaTeslaT4",
      "dataSources": [
        {
          "sourceId": 95302,
          "databundleVersionId": 11325230,
          "sourceType": "competition"
        }
      ],
      "dockerImageVersionId": 30919,
      "isInternetEnabled": true,
      "language": "python",
      "sourceType": "notebook",
      "isGpuEnabled": true
    },
    "colab": {
      "name": "21f1001345_nppe2",
      "provenance": [],
      "include_colab_link": true
    }
  },
  "nbformat_minor": 0,
  "nbformat": 4,
  "cells": [
    {
      "cell_type": "markdown",
      "metadata": {
        "id": "view-in-github",
        "colab_type": "text"
      },
      "source": [
        "<a href=\"https://colab.research.google.com/github/Hemant2388/Deepfake_voice_detection/blob/main/CNN_Model.ipynb\" target=\"_parent\"><img src=\"https://colab.research.google.com/assets/colab-badge.svg\" alt=\"Open In Colab\"/></a>"
      ]
    },
    {
      "source": [
        "# IMPORTANT: SOME KAGGLE DATA SOURCES ARE PRIVATE\n",
        "# RUN THIS CELL IN ORDER TO IMPORT YOUR KAGGLE DATA SOURCES.\n",
        "import kagglehub\n",
        "kagglehub.login()\n"
      ],
      "metadata": {
        "id": "hqh2YobCDhKy"
      },
      "cell_type": "code",
      "outputs": [],
      "execution_count": null
    },
    {
      "source": [
        "# IMPORTANT: RUN THIS CELL IN ORDER TO IMPORT YOUR KAGGLE DATA SOURCES,\n",
        "# THEN FEEL FREE TO DELETE THIS CELL.\n",
        "# NOTE: THIS NOTEBOOK ENVIRONMENT DIFFERS FROM KAGGLE'S PYTHON\n",
        "# ENVIRONMENT SO THERE MAY BE MISSING LIBRARIES USED BY YOUR\n",
        "# NOTEBOOK.\n",
        "\n",
        "indic_tts_deepfake_challenge_path = kagglehub.competition_download('indic-tts-deepfake-challenge')\n",
        "\n",
        "print('Data source import complete.')\n"
      ],
      "metadata": {
        "id": "0vYjckVoDhK3"
      },
      "cell_type": "code",
      "outputs": [],
      "execution_count": null
    },
    {
      "cell_type": "code",
      "source": [
        "# This Python 3 environment comes with many helpful analytics libraries installed\n",
        "# It is defined by the kaggle/python Docker image: https://github.com/kaggle/docker-python\n",
        "# For example, here's several helpful packages to load\n",
        "\n",
        "import numpy as np # linear algebra\n",
        "import pandas as pd # data processing, CSV file I/O (e.g. pd.read_csv)\n",
        "\n",
        "# Input data files are available in the read-only \"../input/\" directory\n",
        "# For example, running this (by clicking run or pressing Shift+Enter) will list all files under the input directory\n",
        "\n",
        "import os\n",
        "for dirname, _, filenames in os.walk('/kaggle/input'):\n",
        "    for filename in filenames:\n",
        "        print(os.path.join(dirname, filename))\n",
        "\n",
        "# You can write up to 20GB to the current directory (/kaggle/working/) that gets preserved as output when you create a version using \"Save & Run All\"\n",
        "# You can also write temporary files to /kaggle/temp/, but they won't be saved outside of the current session"
      ],
      "metadata": {
        "_uuid": "8f2839f25d086af736a60e9eeb907d3b93b6e0e5",
        "_cell_guid": "b1076dfc-b9ad-4769-8c92-a6c4dae69d19",
        "trusted": true,
        "execution": {
          "iopub.status.busy": "2025-03-09T11:18:15.732678Z",
          "iopub.execute_input": "2025-03-09T11:18:15.732895Z",
          "iopub.status.idle": "2025-03-09T11:18:16.054695Z",
          "shell.execute_reply.started": "2025-03-09T11:18:15.732873Z",
          "shell.execute_reply": "2025-03-09T11:18:16.053846Z"
        },
        "id": "GwkIsUIADhK5",
        "outputId": "0f353f36-f83d-47c8-dddd-67af157ba461"
      },
      "outputs": [
        {
          "name": "stdout",
          "text": "/kaggle/input/indic-tts-deepfake-challenge/sample.csv\n",
          "output_type": "stream"
        }
      ],
      "execution_count": null
    },
    {
      "cell_type": "code",
      "source": [
        "pip install librosa numpy pandas torch torchaudio tqdm"
      ],
      "metadata": {
        "trusted": true,
        "execution": {
          "iopub.status.busy": "2025-03-09T11:18:16.055578Z",
          "iopub.execute_input": "2025-03-09T11:18:16.056013Z",
          "iopub.status.idle": "2025-03-09T11:18:20.393846Z",
          "shell.execute_reply.started": "2025-03-09T11:18:16.05598Z",
          "shell.execute_reply": "2025-03-09T11:18:20.392732Z"
        },
        "id": "yempJR40DhK6",
        "outputId": "f529ba8e-a5f0-453e-8d40-1c73853ee551"
      },
      "outputs": [
        {
          "name": "stdout",
          "text": "Requirement already satisfied: librosa in /usr/local/lib/python3.10/dist-packages (0.10.2.post1)\nRequirement already satisfied: numpy in /usr/local/lib/python3.10/dist-packages (1.26.4)\nRequirement already satisfied: pandas in /usr/local/lib/python3.10/dist-packages (2.2.3)\nRequirement already satisfied: torch in /usr/local/lib/python3.10/dist-packages (2.5.1+cu121)\nRequirement already satisfied: torchaudio in /usr/local/lib/python3.10/dist-packages (2.5.1+cu121)\nRequirement already satisfied: tqdm in /usr/local/lib/python3.10/dist-packages (4.67.1)\nRequirement already satisfied: audioread>=2.1.9 in /usr/local/lib/python3.10/dist-packages (from librosa) (3.0.1)\nRequirement already satisfied: scipy>=1.2.0 in /usr/local/lib/python3.10/dist-packages (from librosa) (1.13.1)\nRequirement already satisfied: scikit-learn>=0.20.0 in /usr/local/lib/python3.10/dist-packages (from librosa) (1.2.2)\nRequirement already satisfied: joblib>=0.14 in /usr/local/lib/python3.10/dist-packages (from librosa) (1.4.2)\nRequirement already satisfied: decorator>=4.3.0 in /usr/local/lib/python3.10/dist-packages (from librosa) (4.4.2)\nRequirement already satisfied: numba>=0.51.0 in /usr/local/lib/python3.10/dist-packages (from librosa) (0.60.0)\nRequirement already satisfied: soundfile>=0.12.1 in /usr/local/lib/python3.10/dist-packages (from librosa) (0.12.1)\nRequirement already satisfied: pooch>=1.1 in /usr/local/lib/python3.10/dist-packages (from librosa) (1.8.2)\nRequirement already satisfied: soxr>=0.3.2 in /usr/local/lib/python3.10/dist-packages (from librosa) (0.5.0.post1)\nRequirement already satisfied: typing-extensions>=4.1.1 in /usr/local/lib/python3.10/dist-packages (from librosa) (4.12.2)\nRequirement already satisfied: lazy-loader>=0.1 in /usr/local/lib/python3.10/dist-packages (from librosa) (0.4)\nRequirement already satisfied: msgpack>=1.0 in /usr/local/lib/python3.10/dist-packages (from librosa) (1.1.0)\nRequirement already satisfied: mkl_fft in /usr/local/lib/python3.10/dist-packages (from numpy) (1.3.8)\nRequirement already satisfied: mkl_random in /usr/local/lib/python3.10/dist-packages (from numpy) (1.2.4)\nRequirement already satisfied: mkl_umath in /usr/local/lib/python3.10/dist-packages (from numpy) (0.1.1)\nRequirement already satisfied: mkl in /usr/local/lib/python3.10/dist-packages (from numpy) (2025.0.1)\nRequirement already satisfied: tbb4py in /usr/local/lib/python3.10/dist-packages (from numpy) (2022.0.0)\nRequirement already satisfied: mkl-service in /usr/local/lib/python3.10/dist-packages (from numpy) (2.4.1)\nRequirement already satisfied: python-dateutil>=2.8.2 in /usr/local/lib/python3.10/dist-packages (from pandas) (2.9.0.post0)\nRequirement already satisfied: pytz>=2020.1 in /usr/local/lib/python3.10/dist-packages (from pandas) (2025.1)\nRequirement already satisfied: tzdata>=2022.7 in /usr/local/lib/python3.10/dist-packages (from pandas) (2025.1)\nRequirement already satisfied: filelock in /usr/local/lib/python3.10/dist-packages (from torch) (3.17.0)\nRequirement already satisfied: networkx in /usr/local/lib/python3.10/dist-packages (from torch) (3.4.2)\nRequirement already satisfied: jinja2 in /usr/local/lib/python3.10/dist-packages (from torch) (3.1.4)\nRequirement already satisfied: fsspec in /usr/local/lib/python3.10/dist-packages (from torch) (2024.12.0)\nRequirement already satisfied: sympy==1.13.1 in /usr/local/lib/python3.10/dist-packages (from torch) (1.13.1)\nRequirement already satisfied: mpmath<1.4,>=1.1.0 in /usr/local/lib/python3.10/dist-packages (from sympy==1.13.1->torch) (1.3.0)\nRequirement already satisfied: packaging in /usr/local/lib/python3.10/dist-packages (from lazy-loader>=0.1->librosa) (24.2)\nRequirement already satisfied: llvmlite<0.44,>=0.43.0dev0 in /usr/local/lib/python3.10/dist-packages (from numba>=0.51.0->librosa) (0.43.0)\nRequirement already satisfied: platformdirs>=2.5.0 in /usr/local/lib/python3.10/dist-packages (from pooch>=1.1->librosa) (4.3.6)\nRequirement already satisfied: requests>=2.19.0 in /usr/local/lib/python3.10/dist-packages (from pooch>=1.1->librosa) (2.32.3)\nRequirement already satisfied: six>=1.5 in /usr/local/lib/python3.10/dist-packages (from python-dateutil>=2.8.2->pandas) (1.17.0)\nRequirement already satisfied: threadpoolctl>=2.0.0 in /usr/local/lib/python3.10/dist-packages (from scikit-learn>=0.20.0->librosa) (3.5.0)\nRequirement already satisfied: cffi>=1.0 in /usr/local/lib/python3.10/dist-packages (from soundfile>=0.12.1->librosa) (1.17.1)\nRequirement already satisfied: MarkupSafe>=2.0 in /usr/local/lib/python3.10/dist-packages (from jinja2->torch) (3.0.2)\nRequirement already satisfied: intel-openmp>=2024 in /usr/local/lib/python3.10/dist-packages (from mkl->numpy) (2024.2.0)\nRequirement already satisfied: tbb==2022.* in /usr/local/lib/python3.10/dist-packages (from mkl->numpy) (2022.0.0)\nRequirement already satisfied: tcmlib==1.* in /usr/local/lib/python3.10/dist-packages (from tbb==2022.*->mkl->numpy) (1.2.0)\nRequirement already satisfied: intel-cmplr-lib-rt in /usr/local/lib/python3.10/dist-packages (from mkl_umath->numpy) (2024.2.0)\nRequirement already satisfied: pycparser in /usr/local/lib/python3.10/dist-packages (from cffi>=1.0->soundfile>=0.12.1->librosa) (2.22)\nRequirement already satisfied: intel-cmplr-lib-ur==2024.2.0 in /usr/local/lib/python3.10/dist-packages (from intel-openmp>=2024->mkl->numpy) (2024.2.0)\nRequirement already satisfied: charset-normalizer<4,>=2 in /usr/local/lib/python3.10/dist-packages (from requests>=2.19.0->pooch>=1.1->librosa) (3.4.1)\nRequirement already satisfied: idna<4,>=2.5 in /usr/local/lib/python3.10/dist-packages (from requests>=2.19.0->pooch>=1.1->librosa) (3.10)\nRequirement already satisfied: urllib3<3,>=1.21.1 in /usr/local/lib/python3.10/dist-packages (from requests>=2.19.0->pooch>=1.1->librosa) (2.3.0)\nRequirement already satisfied: certifi>=2017.4.17 in /usr/local/lib/python3.10/dist-packages (from requests>=2.19.0->pooch>=1.1->librosa) (2025.1.31)\nNote: you may need to restart the kernel to use updated packages.\n",
          "output_type": "stream"
        }
      ],
      "execution_count": null
    },
    {
      "cell_type": "code",
      "source": [
        "import pandas as pd\n",
        "sample = pd.read_csv(\"/kaggle/input/indic-tts-deepfake-challenge/sample.csv\")\n",
        "sample.head()"
      ],
      "metadata": {
        "trusted": true,
        "execution": {
          "iopub.status.busy": "2025-03-09T11:18:37.222762Z",
          "iopub.execute_input": "2025-03-09T11:18:37.223121Z",
          "iopub.status.idle": "2025-03-09T11:18:37.262327Z",
          "shell.execute_reply.started": "2025-03-09T11:18:37.223068Z",
          "shell.execute_reply": "2025-03-09T11:18:37.261522Z"
        },
        "id": "3a3FIv91DhK7",
        "outputId": "2e4bdff6-a213-4c78-ae1e-812965f08a91"
      },
      "outputs": [
        {
          "execution_count": 3,
          "output_type": "execute_result",
          "data": {
            "text/plain": "                  id    is_tts\n0  ASM_F_ANGER_00109  0.170354\n1  ASM_F_ANGER_00127  0.241722\n2  ASM_F_ANGER_00386  0.784936\n3  ASM_F_ANGER_00103  0.843566\n4  ASM_F_ANGER_00434  0.759560",
            "text/html": "<div>\n<style scoped>\n    .dataframe tbody tr th:only-of-type {\n        vertical-align: middle;\n    }\n\n    .dataframe tbody tr th {\n        vertical-align: top;\n    }\n\n    .dataframe thead th {\n        text-align: right;\n    }\n</style>\n<table border=\"1\" class=\"dataframe\">\n  <thead>\n    <tr style=\"text-align: right;\">\n      <th></th>\n      <th>id</th>\n      <th>is_tts</th>\n    </tr>\n  </thead>\n  <tbody>\n    <tr>\n      <th>0</th>\n      <td>ASM_F_ANGER_00109</td>\n      <td>0.170354</td>\n    </tr>\n    <tr>\n      <th>1</th>\n      <td>ASM_F_ANGER_00127</td>\n      <td>0.241722</td>\n    </tr>\n    <tr>\n      <th>2</th>\n      <td>ASM_F_ANGER_00386</td>\n      <td>0.784936</td>\n    </tr>\n    <tr>\n      <th>3</th>\n      <td>ASM_F_ANGER_00103</td>\n      <td>0.843566</td>\n    </tr>\n    <tr>\n      <th>4</th>\n      <td>ASM_F_ANGER_00434</td>\n      <td>0.759560</td>\n    </tr>\n  </tbody>\n</table>\n</div>"
          },
          "metadata": {}
        }
      ],
      "execution_count": null
    },
    {
      "cell_type": "code",
      "source": [
        "from datasets import load_dataset\n",
        "\n",
        "# Official dataset for this challenge\n",
        "dataset = load_dataset(\"SherryT997/IndicTTS-Deepfake-Challenge-Data\")\n",
        "\n",
        "# Train and test splits\n",
        "train_data = dataset[\"train\"]  # Contains 'is_tts' labels\n",
        "test_data = dataset[\"test\"]  # 'is_tts' is -1 for all rows"
      ],
      "metadata": {
        "trusted": true,
        "execution": {
          "iopub.status.busy": "2025-03-09T11:18:38.733457Z",
          "iopub.execute_input": "2025-03-09T11:18:38.73374Z",
          "iopub.status.idle": "2025-03-09T11:22:50.637155Z",
          "shell.execute_reply.started": "2025-03-09T11:18:38.733712Z",
          "shell.execute_reply": "2025-03-09T11:22:50.635984Z"
        },
        "colab": {
          "referenced_widgets": [
            "cc2acfae613a4285b283e1c8d83ae954",
            "6a8f1aa9f49541259cdd5cde5291a18d",
            "b8f725ea24f84f46b3692c4826ee1a28",
            "fa8ed3f831cf4684a149c1d77ed61f4c",
            "b0113d721ebd425e8cf72036a4453e6c",
            "ba4d1d9a17194154947f8663f1aebff0",
            "47a5e077a4c54a588e4c33393e458b29",
            "9a7be9b236d84b0aa2a35779863c3ce3",
            "9f3f63f4210847e383d9c67c2358ac6c",
            "169f296323b94a96a6f2a4e356cd4d8f",
            "70f35e7d7a7a464b81553fb52d4a8d95",
            "1c6588d2678e41cca40dbbeeea9740cd",
            "5e04c62e3114444aba883d815c089d37",
            "0e6a9d99ae604b39be8222a045abacf8",
            "6f5a1eeb1a4a486a9089b032e6f01e82",
            "8efed3210e464fcd9f9d8f7ed53cd372",
            "224dae1da62e4fdbbab6cfbe95b96df5",
            "7ebf560b2a9f4aaf844f10a7e7dd9a05",
            "786bbe9fa68742ecb8a6f9101bad651a",
            "e02763ca7be94143a5020906fe195849",
            "bc6c4cb67a3b4cb48f5ee9f98a26a0d4",
            "88d22b28866c40ea80255584126548e4",
            "8499424f82fc4bb3b96e3ef6db8e9995",
            "aa0d41aa49f64ba89ebeaf6513f68c55",
            "ae1210cd31b34e94a0e1e8f5540f7036",
            "8b8ec62c1e164eeebb344153f913bfb0",
            "f334f2392b8d427b9eea10fd3f11a711",
            "e576df954c4c41d88dc063097ddf98f4",
            "f19a9c1da28a45559cc88374f8f1defd",
            "f184261abb9f479a9ed7da3ed019f4ca",
            "5fa12abba071467892a47c2262b02554",
            "fedf5a13e8834b66bb65e1cde869e6b9",
            "15a74e734af54303a0fa8c1fb97c9733",
            "742c4d8389e04ffaaa32c6ede5b61c24",
            "3c5593bf6b5f443190702ef92d7eb5ee",
            "480335ca697b42c48688ea4188e4e6f8",
            "c97d45b7a3db45fa80e5eb94a9dfe313",
            "fb0dd239f2064ae9af7c2159a67bc392",
            "d69f45185ff14986bf6e4c1a31f2de38",
            "c7c8f52cb79e41bbbf39a90f4bd68598",
            "f6dcb6afabb34dd695bf97617d67931f",
            "a0abff09ca964f9e8372e4268cb6a67f",
            "f0d6cdd8687945d9974fb7acd8ed89a5",
            "245d4d569b204d6bafa8b63992692a82",
            "2a1d99056c9848e391c1849705ee0153",
            "9b2ee404e62d4479b524b301f738fc03"
          ]
        },
        "id": "t2Ar6E00DhK8",
        "outputId": "f29afa91-d452-4f0f-cabe-1af52aa009bc"
      },
      "outputs": [
        {
          "output_type": "display_data",
          "data": {
            "text/plain": "README.md:   0%|          | 0.00/2.81k [00:00<?, ?B/s]",
            "application/vnd.jupyter.widget-view+json": {
              "version_major": 2,
              "version_minor": 0,
              "model_id": "cc2acfae613a4285b283e1c8d83ae954"
            }
          },
          "metadata": {}
        },
        {
          "output_type": "display_data",
          "data": {
            "text/plain": "Resolving data files:   0%|          | 0/35 [00:00<?, ?it/s]",
            "application/vnd.jupyter.widget-view+json": {
              "version_major": 2,
              "version_minor": 0,
              "model_id": "6a8f1aa9f49541259cdd5cde5291a18d"
            }
          },
          "metadata": {}
        },
        {
          "output_type": "display_data",
          "data": {
            "text/plain": "Resolving data files:   0%|          | 0/35 [00:00<?, ?it/s]",
            "application/vnd.jupyter.widget-view+json": {
              "version_major": 2,
              "version_minor": 0,
              "model_id": "b8f725ea24f84f46b3692c4826ee1a28"
            }
          },
          "metadata": {}
        },
        {
          "output_type": "display_data",
          "data": {
            "text/plain": "Downloading data:   0%|          | 0/35 [00:00<?, ?files/s]",
            "application/vnd.jupyter.widget-view+json": {
              "version_major": 2,
              "version_minor": 0,
              "model_id": "fa8ed3f831cf4684a149c1d77ed61f4c"
            }
          },
          "metadata": {}
        },
        {
          "output_type": "display_data",
          "data": {
            "text/plain": "train-00000-of-00035.parquet:   0%|          | 0.00/453M [00:00<?, ?B/s]",
            "application/vnd.jupyter.widget-view+json": {
              "version_major": 2,
              "version_minor": 0,
              "model_id": "b0113d721ebd425e8cf72036a4453e6c"
            }
          },
          "metadata": {}
        },
        {
          "output_type": "display_data",
          "data": {
            "text/plain": "train-00001-of-00035.parquet:   0%|          | 0.00/461M [00:00<?, ?B/s]",
            "application/vnd.jupyter.widget-view+json": {
              "version_major": 2,
              "version_minor": 0,
              "model_id": "ba4d1d9a17194154947f8663f1aebff0"
            }
          },
          "metadata": {}
        },
        {
          "output_type": "display_data",
          "data": {
            "text/plain": "train-00002-of-00035.parquet:   0%|          | 0.00/464M [00:00<?, ?B/s]",
            "application/vnd.jupyter.widget-view+json": {
              "version_major": 2,
              "version_minor": 0,
              "model_id": "47a5e077a4c54a588e4c33393e458b29"
            }
          },
          "metadata": {}
        },
        {
          "output_type": "display_data",
          "data": {
            "text/plain": "train-00003-of-00035.parquet:   0%|          | 0.00/443M [00:00<?, ?B/s]",
            "application/vnd.jupyter.widget-view+json": {
              "version_major": 2,
              "version_minor": 0,
              "model_id": "9a7be9b236d84b0aa2a35779863c3ce3"
            }
          },
          "metadata": {}
        },
        {
          "output_type": "display_data",
          "data": {
            "text/plain": "train-00004-of-00035.parquet:   0%|          | 0.00/470M [00:00<?, ?B/s]",
            "application/vnd.jupyter.widget-view+json": {
              "version_major": 2,
              "version_minor": 0,
              "model_id": "9f3f63f4210847e383d9c67c2358ac6c"
            }
          },
          "metadata": {}
        },
        {
          "output_type": "display_data",
          "data": {
            "text/plain": "train-00005-of-00035.parquet:   0%|          | 0.00/475M [00:00<?, ?B/s]",
            "application/vnd.jupyter.widget-view+json": {
              "version_major": 2,
              "version_minor": 0,
              "model_id": "169f296323b94a96a6f2a4e356cd4d8f"
            }
          },
          "metadata": {}
        },
        {
          "output_type": "display_data",
          "data": {
            "text/plain": "train-00006-of-00035.parquet:   0%|          | 0.00/447M [00:00<?, ?B/s]",
            "application/vnd.jupyter.widget-view+json": {
              "version_major": 2,
              "version_minor": 0,
              "model_id": "70f35e7d7a7a464b81553fb52d4a8d95"
            }
          },
          "metadata": {}
        },
        {
          "output_type": "display_data",
          "data": {
            "text/plain": "train-00007-of-00035.parquet:   0%|          | 0.00/516M [00:00<?, ?B/s]",
            "application/vnd.jupyter.widget-view+json": {
              "version_major": 2,
              "version_minor": 0,
              "model_id": "1c6588d2678e41cca40dbbeeea9740cd"
            }
          },
          "metadata": {}
        },
        {
          "output_type": "display_data",
          "data": {
            "text/plain": "train-00008-of-00035.parquet:   0%|          | 0.00/557M [00:00<?, ?B/s]",
            "application/vnd.jupyter.widget-view+json": {
              "version_major": 2,
              "version_minor": 0,
              "model_id": "5e04c62e3114444aba883d815c089d37"
            }
          },
          "metadata": {}
        },
        {
          "output_type": "display_data",
          "data": {
            "text/plain": "train-00009-of-00035.parquet:   0%|          | 0.00/521M [00:00<?, ?B/s]",
            "application/vnd.jupyter.widget-view+json": {
              "version_major": 2,
              "version_minor": 0,
              "model_id": "0e6a9d99ae604b39be8222a045abacf8"
            }
          },
          "metadata": {}
        },
        {
          "output_type": "display_data",
          "data": {
            "text/plain": "train-00010-of-00035.parquet:   0%|          | 0.00/491M [00:00<?, ?B/s]",
            "application/vnd.jupyter.widget-view+json": {
              "version_major": 2,
              "version_minor": 0,
              "model_id": "6f5a1eeb1a4a486a9089b032e6f01e82"
            }
          },
          "metadata": {}
        },
        {
          "output_type": "display_data",
          "data": {
            "text/plain": "train-00011-of-00035.parquet:   0%|          | 0.00/426M [00:00<?, ?B/s]",
            "application/vnd.jupyter.widget-view+json": {
              "version_major": 2,
              "version_minor": 0,
              "model_id": "8efed3210e464fcd9f9d8f7ed53cd372"
            }
          },
          "metadata": {}
        },
        {
          "output_type": "display_data",
          "data": {
            "text/plain": "train-00012-of-00035.parquet:   0%|          | 0.00/414M [00:00<?, ?B/s]",
            "application/vnd.jupyter.widget-view+json": {
              "version_major": 2,
              "version_minor": 0,
              "model_id": "224dae1da62e4fdbbab6cfbe95b96df5"
            }
          },
          "metadata": {}
        },
        {
          "output_type": "display_data",
          "data": {
            "text/plain": "train-00013-of-00035.parquet:   0%|          | 0.00/473M [00:00<?, ?B/s]",
            "application/vnd.jupyter.widget-view+json": {
              "version_major": 2,
              "version_minor": 0,
              "model_id": "7ebf560b2a9f4aaf844f10a7e7dd9a05"
            }
          },
          "metadata": {}
        },
        {
          "output_type": "display_data",
          "data": {
            "text/plain": "train-00014-of-00035.parquet:   0%|          | 0.00/481M [00:00<?, ?B/s]",
            "application/vnd.jupyter.widget-view+json": {
              "version_major": 2,
              "version_minor": 0,
              "model_id": "786bbe9fa68742ecb8a6f9101bad651a"
            }
          },
          "metadata": {}
        },
        {
          "output_type": "display_data",
          "data": {
            "text/plain": "train-00015-of-00035.parquet:   0%|          | 0.00/467M [00:00<?, ?B/s]",
            "application/vnd.jupyter.widget-view+json": {
              "version_major": 2,
              "version_minor": 0,
              "model_id": "e02763ca7be94143a5020906fe195849"
            }
          },
          "metadata": {}
        },
        {
          "output_type": "display_data",
          "data": {
            "text/plain": "train-00016-of-00035.parquet:   0%|          | 0.00/532M [00:00<?, ?B/s]",
            "application/vnd.jupyter.widget-view+json": {
              "version_major": 2,
              "version_minor": 0,
              "model_id": "bc6c4cb67a3b4cb48f5ee9f98a26a0d4"
            }
          },
          "metadata": {}
        },
        {
          "output_type": "display_data",
          "data": {
            "text/plain": "train-00017-of-00035.parquet:   0%|          | 0.00/510M [00:00<?, ?B/s]",
            "application/vnd.jupyter.widget-view+json": {
              "version_major": 2,
              "version_minor": 0,
              "model_id": "88d22b28866c40ea80255584126548e4"
            }
          },
          "metadata": {}
        },
        {
          "output_type": "display_data",
          "data": {
            "text/plain": "train-00018-of-00035.parquet:   0%|          | 0.00/471M [00:00<?, ?B/s]",
            "application/vnd.jupyter.widget-view+json": {
              "version_major": 2,
              "version_minor": 0,
              "model_id": "8499424f82fc4bb3b96e3ef6db8e9995"
            }
          },
          "metadata": {}
        },
        {
          "output_type": "display_data",
          "data": {
            "text/plain": "train-00019-of-00035.parquet:   0%|          | 0.00/501M [00:00<?, ?B/s]",
            "application/vnd.jupyter.widget-view+json": {
              "version_major": 2,
              "version_minor": 0,
              "model_id": "aa0d41aa49f64ba89ebeaf6513f68c55"
            }
          },
          "metadata": {}
        },
        {
          "output_type": "display_data",
          "data": {
            "text/plain": "train-00020-of-00035.parquet:   0%|          | 0.00/559M [00:00<?, ?B/s]",
            "application/vnd.jupyter.widget-view+json": {
              "version_major": 2,
              "version_minor": 0,
              "model_id": "ae1210cd31b34e94a0e1e8f5540f7036"
            }
          },
          "metadata": {}
        },
        {
          "output_type": "display_data",
          "data": {
            "text/plain": "train-00021-of-00035.parquet:   0%|          | 0.00/541M [00:00<?, ?B/s]",
            "application/vnd.jupyter.widget-view+json": {
              "version_major": 2,
              "version_minor": 0,
              "model_id": "8b8ec62c1e164eeebb344153f913bfb0"
            }
          },
          "metadata": {}
        },
        {
          "output_type": "display_data",
          "data": {
            "text/plain": "train-00022-of-00035.parquet:   0%|          | 0.00/558M [00:00<?, ?B/s]",
            "application/vnd.jupyter.widget-view+json": {
              "version_major": 2,
              "version_minor": 0,
              "model_id": "f334f2392b8d427b9eea10fd3f11a711"
            }
          },
          "metadata": {}
        },
        {
          "output_type": "display_data",
          "data": {
            "text/plain": "train-00023-of-00035.parquet:   0%|          | 0.00/599M [00:00<?, ?B/s]",
            "application/vnd.jupyter.widget-view+json": {
              "version_major": 2,
              "version_minor": 0,
              "model_id": "e576df954c4c41d88dc063097ddf98f4"
            }
          },
          "metadata": {}
        },
        {
          "output_type": "display_data",
          "data": {
            "text/plain": "train-00024-of-00035.parquet:   0%|          | 0.00/576M [00:00<?, ?B/s]",
            "application/vnd.jupyter.widget-view+json": {
              "version_major": 2,
              "version_minor": 0,
              "model_id": "f19a9c1da28a45559cc88374f8f1defd"
            }
          },
          "metadata": {}
        },
        {
          "output_type": "display_data",
          "data": {
            "text/plain": "train-00025-of-00035.parquet:   0%|          | 0.00/547M [00:00<?, ?B/s]",
            "application/vnd.jupyter.widget-view+json": {
              "version_major": 2,
              "version_minor": 0,
              "model_id": "f184261abb9f479a9ed7da3ed019f4ca"
            }
          },
          "metadata": {}
        },
        {
          "output_type": "display_data",
          "data": {
            "text/plain": "train-00026-of-00035.parquet:   0%|          | 0.00/537M [00:00<?, ?B/s]",
            "application/vnd.jupyter.widget-view+json": {
              "version_major": 2,
              "version_minor": 0,
              "model_id": "5fa12abba071467892a47c2262b02554"
            }
          },
          "metadata": {}
        },
        {
          "output_type": "display_data",
          "data": {
            "text/plain": "train-00027-of-00035.parquet:   0%|          | 0.00/421M [00:00<?, ?B/s]",
            "application/vnd.jupyter.widget-view+json": {
              "version_major": 2,
              "version_minor": 0,
              "model_id": "fedf5a13e8834b66bb65e1cde869e6b9"
            }
          },
          "metadata": {}
        },
        {
          "output_type": "display_data",
          "data": {
            "text/plain": "train-00028-of-00035.parquet:   0%|          | 0.00/382M [00:00<?, ?B/s]",
            "application/vnd.jupyter.widget-view+json": {
              "version_major": 2,
              "version_minor": 0,
              "model_id": "15a74e734af54303a0fa8c1fb97c9733"
            }
          },
          "metadata": {}
        },
        {
          "output_type": "display_data",
          "data": {
            "text/plain": "train-00029-of-00035.parquet:   0%|          | 0.00/287M [00:00<?, ?B/s]",
            "application/vnd.jupyter.widget-view+json": {
              "version_major": 2,
              "version_minor": 0,
              "model_id": "742c4d8389e04ffaaa32c6ede5b61c24"
            }
          },
          "metadata": {}
        },
        {
          "output_type": "display_data",
          "data": {
            "text/plain": "train-00030-of-00035.parquet:   0%|          | 0.00/282M [00:00<?, ?B/s]",
            "application/vnd.jupyter.widget-view+json": {
              "version_major": 2,
              "version_minor": 0,
              "model_id": "3c5593bf6b5f443190702ef92d7eb5ee"
            }
          },
          "metadata": {}
        },
        {
          "output_type": "display_data",
          "data": {
            "text/plain": "train-00031-of-00035.parquet:   0%|          | 0.00/688M [00:00<?, ?B/s]",
            "application/vnd.jupyter.widget-view+json": {
              "version_major": 2,
              "version_minor": 0,
              "model_id": "480335ca697b42c48688ea4188e4e6f8"
            }
          },
          "metadata": {}
        },
        {
          "output_type": "display_data",
          "data": {
            "text/plain": "train-00032-of-00035.parquet:   0%|          | 0.00/613M [00:00<?, ?B/s]",
            "application/vnd.jupyter.widget-view+json": {
              "version_major": 2,
              "version_minor": 0,
              "model_id": "c97d45b7a3db45fa80e5eb94a9dfe313"
            }
          },
          "metadata": {}
        },
        {
          "output_type": "display_data",
          "data": {
            "text/plain": "train-00033-of-00035.parquet:   0%|          | 0.00/309M [00:00<?, ?B/s]",
            "application/vnd.jupyter.widget-view+json": {
              "version_major": 2,
              "version_minor": 0,
              "model_id": "fb0dd239f2064ae9af7c2159a67bc392"
            }
          },
          "metadata": {}
        },
        {
          "output_type": "display_data",
          "data": {
            "text/plain": "train-00034-of-00035.parquet:   0%|          | 0.00/424M [00:00<?, ?B/s]",
            "application/vnd.jupyter.widget-view+json": {
              "version_major": 2,
              "version_minor": 0,
              "model_id": "d69f45185ff14986bf6e4c1a31f2de38"
            }
          },
          "metadata": {}
        },
        {
          "output_type": "display_data",
          "data": {
            "text/plain": "test-00000-of-00004.parquet:   0%|          | 0.00/356M [00:00<?, ?B/s]",
            "application/vnd.jupyter.widget-view+json": {
              "version_major": 2,
              "version_minor": 0,
              "model_id": "c7c8f52cb79e41bbbf39a90f4bd68598"
            }
          },
          "metadata": {}
        },
        {
          "output_type": "display_data",
          "data": {
            "text/plain": "test-00001-of-00004.parquet:   0%|          | 0.00/364M [00:00<?, ?B/s]",
            "application/vnd.jupyter.widget-view+json": {
              "version_major": 2,
              "version_minor": 0,
              "model_id": "f6dcb6afabb34dd695bf97617d67931f"
            }
          },
          "metadata": {}
        },
        {
          "output_type": "display_data",
          "data": {
            "text/plain": "test-00002-of-00004.parquet:   0%|          | 0.00/410M [00:00<?, ?B/s]",
            "application/vnd.jupyter.widget-view+json": {
              "version_major": 2,
              "version_minor": 0,
              "model_id": "a0abff09ca964f9e8372e4268cb6a67f"
            }
          },
          "metadata": {}
        },
        {
          "output_type": "display_data",
          "data": {
            "text/plain": "test-00003-of-00004.parquet:   0%|          | 0.00/291M [00:00<?, ?B/s]",
            "application/vnd.jupyter.widget-view+json": {
              "version_major": 2,
              "version_minor": 0,
              "model_id": "f0d6cdd8687945d9974fb7acd8ed89a5"
            }
          },
          "metadata": {}
        },
        {
          "output_type": "display_data",
          "data": {
            "text/plain": "Generating train split:   0%|          | 0/31102 [00:00<?, ? examples/s]",
            "application/vnd.jupyter.widget-view+json": {
              "version_major": 2,
              "version_minor": 0,
              "model_id": "245d4d569b204d6bafa8b63992692a82"
            }
          },
          "metadata": {}
        },
        {
          "output_type": "display_data",
          "data": {
            "text/plain": "Generating test split:   0%|          | 0/2635 [00:00<?, ? examples/s]",
            "application/vnd.jupyter.widget-view+json": {
              "version_major": 2,
              "version_minor": 0,
              "model_id": "2a1d99056c9848e391c1849705ee0153"
            }
          },
          "metadata": {}
        },
        {
          "output_type": "display_data",
          "data": {
            "text/plain": "Loading dataset shards:   0%|          | 0/35 [00:00<?, ?it/s]",
            "application/vnd.jupyter.widget-view+json": {
              "version_major": 2,
              "version_minor": 0,
              "model_id": "9b2ee404e62d4479b524b301f738fc03"
            }
          },
          "metadata": {}
        }
      ],
      "execution_count": null
    },
    {
      "cell_type": "markdown",
      "source": [
        "# Checking Label Distribution (Class Imbalance)"
      ],
      "metadata": {
        "id": "znV-O1dlDhK8"
      }
    },
    {
      "cell_type": "code",
      "source": [
        "from collections import Counter\n",
        "\n",
        "# Count occurrences of each label\n",
        "label_counts = Counter(train_data[\"is_tts\"])\n",
        "\n",
        "print(\"Label Distribution:\", label_counts)"
      ],
      "metadata": {
        "trusted": true,
        "execution": {
          "iopub.status.busy": "2025-03-09T11:22:55.10854Z",
          "iopub.execute_input": "2025-03-09T11:22:55.10902Z",
          "iopub.status.idle": "2025-03-09T11:22:55.133052Z",
          "shell.execute_reply.started": "2025-03-09T11:22:55.108994Z",
          "shell.execute_reply": "2025-03-09T11:22:55.132192Z"
        },
        "id": "cvoAm1YdDhK-",
        "outputId": "97809360-477f-4b73-9d57-dce32568a7dd"
      },
      "outputs": [
        {
          "name": "stdout",
          "text": "Label Distribution: Counter({0: 15558, 1: 15544})\n",
          "output_type": "stream"
        }
      ],
      "execution_count": null
    },
    {
      "cell_type": "markdown",
      "source": [
        "# Check Language Distribution"
      ],
      "metadata": {
        "id": "AW6PAmhADhK_"
      }
    },
    {
      "cell_type": "code",
      "source": [
        "import matplotlib.pyplot as plt\n",
        "\n",
        "# Count occurrences of each language\n",
        "lang_counts = Counter(train_data[\"language\"])\n",
        "\n",
        "# Plot distribution\n",
        "plt.figure(figsize=(10, 5))\n",
        "plt.bar(lang_counts.keys(), lang_counts.values())\n",
        "plt.xticks(rotation=90)\n",
        "plt.title(\"Language Distribution in Training Data\")\n",
        "plt.show()"
      ],
      "metadata": {
        "trusted": true,
        "execution": {
          "iopub.status.busy": "2025-03-09T11:23:00.128268Z",
          "iopub.execute_input": "2025-03-09T11:23:00.128546Z",
          "iopub.status.idle": "2025-03-09T11:23:00.533385Z",
          "shell.execute_reply.started": "2025-03-09T11:23:00.128523Z",
          "shell.execute_reply": "2025-03-09T11:23:00.532501Z"
        },
        "id": "eaW_jKp3DhLA",
        "outputId": "ab2e2221-bd68-41b5-b392-76a41028fade"
      },
      "outputs": [
        {
          "output_type": "display_data",
          "data": {
            "text/plain": "<Figure size 1000x500 with 1 Axes>",
            "image/png": "[encoded data removed]"
          },
          "metadata": {}
        }
      ],
      "execution_count": null
    },
    {
      "cell_type": "code",
      "source": [
        "from datasets import load_dataset\n",
        "import librosa\n",
        "import numpy as np\n",
        "import pandas as pd\n",
        "import torch\n",
        "import torch.nn as nn\n",
        "import torch.optim as optim\n",
        "from sklearn.preprocessing import StandardScaler\n",
        "from sklearn.model_selection import train_test_split\n",
        "from sklearn.metrics import roc_auc_score\n",
        "from torch.utils.data import Dataset, DataLoader"
      ],
      "metadata": {
        "trusted": true,
        "execution": {
          "iopub.status.busy": "2025-03-09T11:23:02.828067Z",
          "iopub.execute_input": "2025-03-09T11:23:02.828428Z",
          "iopub.status.idle": "2025-03-09T11:23:06.711003Z",
          "shell.execute_reply.started": "2025-03-09T11:23:02.8284Z",
          "shell.execute_reply": "2025-03-09T11:23:06.710247Z"
        },
        "id": "MnJIbszyDhLA"
      },
      "outputs": [],
      "execution_count": null
    },
    {
      "cell_type": "markdown",
      "source": [
        "# Feature Extraction"
      ],
      "metadata": {
        "id": "COarj0a0DhLA"
      }
    },
    {
      "cell_type": "code",
      "source": [
        "from tqdm.notebook import tqdm"
      ],
      "metadata": {
        "trusted": true,
        "execution": {
          "iopub.status.busy": "2025-03-09T11:23:07.981138Z",
          "iopub.execute_input": "2025-03-09T11:23:07.98169Z",
          "iopub.status.idle": "2025-03-09T11:23:20.221995Z",
          "shell.execute_reply.started": "2025-03-09T11:23:07.98166Z",
          "shell.execute_reply": "2025-03-09T11:23:20.221212Z"
        },
        "id": "qizGmdyWDhLB"
      },
      "outputs": [],
      "execution_count": null
    },
    {
      "cell_type": "code",
      "source": [
        "def extract_features(audio_array, sr, n_mfcc=13, max_length=500):\n",
        "    features = []\n",
        "    mfccs = librosa.feature.mfcc(y=audio_array, sr=16000, n_mfcc=40)\n",
        "    # Pad or trim the feature array to a fixed length\n",
        "    if mfccs.shape[1] < max_length:\n",
        "        mfccs = np.pad(mfccs, ((0, 0), (0, max_length - mfccs.shape[1])), mode='constant')\n",
        "    else:\n",
        "        mfccs = mfccs[:, :max_length]\n",
        "    return mfccs"
      ],
      "metadata": {
        "trusted": true,
        "execution": {
          "iopub.status.busy": "2025-03-09T11:23:20.223234Z",
          "iopub.execute_input": "2025-03-09T11:23:20.223996Z",
          "iopub.status.idle": "2025-03-09T11:23:20.228624Z",
          "shell.execute_reply.started": "2025-03-09T11:23:20.223954Z",
          "shell.execute_reply": "2025-03-09T11:23:20.227757Z"
        },
        "id": "Rxc21IxpDhLB"
      },
      "outputs": [],
      "execution_count": null
    },
    {
      "cell_type": "code",
      "source": [
        "def normalize_per_sample(x):\n",
        "    mean = np.mean(x, axis=1, keepdims=True)\n",
        "    std = np.std(x, axis=1, keepdims=True) + 1e-9\n",
        "    return (x - mean) / std"
      ],
      "metadata": {
        "trusted": true,
        "execution": {
          "iopub.status.busy": "2025-03-09T11:23:20.230212Z",
          "iopub.execute_input": "2025-03-09T11:23:20.230491Z",
          "iopub.status.idle": "2025-03-09T11:23:20.258561Z",
          "shell.execute_reply.started": "2025-03-09T11:23:20.230468Z",
          "shell.execute_reply": "2025-03-09T11:23:20.25763Z"
        },
        "id": "ZwPu3-NYDhLB"
      },
      "outputs": [],
      "execution_count": null
    },
    {
      "cell_type": "code",
      "source": [
        "# # Store extracted features\n",
        "# train_features = []\n",
        "\n",
        "# for sample in tqdm(train_data):\n",
        "#     audio_array = sample['audio']['array']\n",
        "#     sr = sample['audio']['sampling_rate']\n",
        "\n",
        "#     # Extract MFCC and Log-Mel Spectrogram\n",
        "#     mfcc = extract_features(audio_array, sr)\n",
        "\n",
        "#     # Flatten features and store\n",
        "#     train_features.append({\n",
        "#         'id': sample['id'],\n",
        "#         'language': sample['language'],\n",
        "#         'is_tts': sample['is_tts'],\n",
        "#         'mfcc': mfcc,\n",
        "#     })\n",
        "\n",
        "features = []\n",
        "labels = []\n",
        "\n",
        "for sample in tqdm(train_data):\n",
        "    audio_array = sample[\"audio\"][\"array\"]\n",
        "    sr = sample[\"audio\"][\"sampling_rate\"]\n",
        "    mfcc = extract_features(audio_array, sr)\n",
        "    mfcc = normalize_per_sample(mfcc)\n",
        "    features.append(mfcc.astype(np.float32))\n",
        "    labels.append(sample[\"is_tts\"])\n",
        "\n",
        "# # Convert to Pandas DataFrame\n",
        "# df_train = pd.DataFrame(train_features)\n",
        "\n",
        "# df_train.head()"
      ],
      "metadata": {
        "trusted": true,
        "execution": {
          "iopub.status.busy": "2025-03-09T11:25:12.478873Z",
          "iopub.execute_input": "2025-03-09T11:25:12.479243Z",
          "iopub.status.idle": "2025-03-09T11:36:13.286416Z",
          "shell.execute_reply.started": "2025-03-09T11:25:12.479212Z",
          "shell.execute_reply": "2025-03-09T11:36:13.284846Z"
        },
        "colab": {
          "referenced_widgets": [
            "69e8ce207ac24cc9887405b79139c955"
          ]
        },
        "id": "-6H7CJq2DhLB",
        "outputId": "064e3002-2fb5-4e5a-ff38-a82696d8b95b"
      },
      "outputs": [
        {
          "output_type": "display_data",
          "data": {
            "text/plain": "  0%|          | 0/31102 [00:00<?, ?it/s]",
            "application/vnd.jupyter.widget-view+json": {
              "version_major": 2,
              "version_minor": 0,
              "model_id": "69e8ce207ac24cc9887405b79139c955"
            }
          },
          "metadata": {}
        },
        {
          "name": "stderr",
          "text": "/usr/local/lib/python3.10/dist-packages/librosa/core/spectrum.py:266: UserWarning: n_fft=2048 is too large for input signal of length=929\n  warnings.warn(\n/usr/local/lib/python3.10/dist-packages/librosa/core/spectrum.py:266: UserWarning: n_fft=2048 is too large for input signal of length=2044\n  warnings.warn(\n/usr/local/lib/python3.10/dist-packages/librosa/core/spectrum.py:266: UserWarning: n_fft=2048 is too large for input signal of length=1672\n  warnings.warn(\n/usr/local/lib/python3.10/dist-packages/librosa/core/spectrum.py:266: UserWarning: n_fft=2048 is too large for input signal of length=744\n  warnings.warn(\n",
          "output_type": "stream"
        }
      ],
      "execution_count": null
    },
    {
      "cell_type": "code",
      "source": [
        "features = np.array(features, dtype=np.float32)  # shape: (30000, 40, 500)\n",
        "labels = np.array(labels, dtype=np.float32)"
      ],
      "metadata": {
        "trusted": true,
        "execution": {
          "iopub.status.busy": "2025-03-09T11:36:25.799716Z",
          "iopub.execute_input": "2025-03-09T11:36:25.800022Z",
          "iopub.status.idle": "2025-03-09T11:36:29.782147Z",
          "shell.execute_reply.started": "2025-03-09T11:36:25.799996Z",
          "shell.execute_reply": "2025-03-09T11:36:29.781185Z"
        },
        "id": "8z4nsPffDhLC"
      },
      "outputs": [],
      "execution_count": null
    },
    {
      "cell_type": "code",
      "source": [
        "# features = np.array(df_train[\"mfcc\"].tolist())\n",
        "# features = (features - features.mean()) / (features.std() + 1e-8)\n",
        "# labels = df_train[\"is_tts\"]\n",
        "# labels = np.array(labels)"
      ],
      "metadata": {
        "trusted": true,
        "execution": {
          "iopub.status.busy": "2025-03-09T11:36:29.783297Z",
          "iopub.execute_input": "2025-03-09T11:36:29.783619Z",
          "iopub.status.idle": "2025-03-09T11:36:29.786929Z",
          "shell.execute_reply.started": "2025-03-09T11:36:29.783589Z",
          "shell.execute_reply": "2025-03-09T11:36:29.786049Z"
        },
        "id": "JLLQZmDLDhLC"
      },
      "outputs": [],
      "execution_count": null
    },
    {
      "cell_type": "code",
      "source": [
        "import torch\n",
        "import torch.nn as nn\n",
        "import torch.optim as optim\n",
        "from torch.utils.data import DataLoader, Dataset, random_split, TensorDataset"
      ],
      "metadata": {
        "trusted": true,
        "execution": {
          "iopub.status.busy": "2025-03-09T11:36:29.788132Z",
          "iopub.execute_input": "2025-03-09T11:36:29.788405Z",
          "iopub.status.idle": "2025-03-09T11:36:29.803524Z",
          "shell.execute_reply.started": "2025-03-09T11:36:29.788384Z",
          "shell.execute_reply": "2025-03-09T11:36:29.802817Z"
        },
        "id": "5Mwx3cWHDhLC"
      },
      "outputs": [],
      "execution_count": null
    },
    {
      "cell_type": "code",
      "source": [
        "# Convert numpy arrays to tensors\n",
        "X = torch.tensor(features, dtype=torch.float32)  # shape: (N, 40, 500)\n",
        "y = torch.tensor(labels, dtype=torch.float32)    # shape: (N,)"
      ],
      "metadata": {
        "trusted": true,
        "execution": {
          "iopub.status.busy": "2025-03-09T11:36:33.545327Z",
          "iopub.execute_input": "2025-03-09T11:36:33.545645Z",
          "iopub.status.idle": "2025-03-09T11:36:34.889927Z",
          "shell.execute_reply.started": "2025-03-09T11:36:33.545618Z",
          "shell.execute_reply": "2025-03-09T11:36:34.88899Z"
        },
        "id": "eigyEuj_DhLD"
      },
      "outputs": [],
      "execution_count": null
    },
    {
      "cell_type": "code",
      "source": [
        "# Reshape X for CNN input: (N, C, H, W)\n",
        "X = X.unsqueeze(1)  # Now shape: (N, 1, 40, 500)"
      ],
      "metadata": {
        "trusted": true,
        "execution": {
          "iopub.status.busy": "2025-03-09T11:36:36.221733Z",
          "iopub.execute_input": "2025-03-09T11:36:36.222011Z",
          "iopub.status.idle": "2025-03-09T11:36:36.241483Z",
          "shell.execute_reply.started": "2025-03-09T11:36:36.221988Z",
          "shell.execute_reply": "2025-03-09T11:36:36.240089Z"
        },
        "id": "lRHjP_QmDhLD"
      },
      "outputs": [],
      "execution_count": null
    },
    {
      "cell_type": "code",
      "source": [
        "X.shape, y.shape"
      ],
      "metadata": {
        "trusted": true,
        "execution": {
          "iopub.status.busy": "2025-03-09T11:36:38.141586Z",
          "iopub.execute_input": "2025-03-09T11:36:38.14191Z",
          "iopub.status.idle": "2025-03-09T11:36:38.147051Z",
          "shell.execute_reply.started": "2025-03-09T11:36:38.141882Z",
          "shell.execute_reply": "2025-03-09T11:36:38.146183Z"
        },
        "id": "5Z_acssLDhLD",
        "outputId": "17a3ad62-331f-478d-a215-ad4c5c3a92a8"
      },
      "outputs": [
        {
          "execution_count": 18,
          "output_type": "execute_result",
          "data": {
            "text/plain": "(torch.Size([31102, 1, 40, 500]), torch.Size([31102]))"
          },
          "metadata": {}
        }
      ],
      "execution_count": null
    },
    {
      "cell_type": "code",
      "source": [
        "# Create Dataset and DataLoaders\n",
        "dataset = TensorDataset(X, y)\n",
        "train_size = int(0.9 * len(dataset))\n",
        "val_size = len(dataset) - train_size\n",
        "train_ds, val_ds = random_split(dataset, [train_size, val_size])\n",
        "\n",
        "train_loader = DataLoader(train_ds, batch_size=32, shuffle=True)\n",
        "val_loader = DataLoader(val_ds, batch_size=32)"
      ],
      "metadata": {
        "trusted": true,
        "execution": {
          "iopub.status.busy": "2025-03-09T11:36:40.644043Z",
          "iopub.execute_input": "2025-03-09T11:36:40.6444Z",
          "iopub.status.idle": "2025-03-09T11:36:40.664334Z",
          "shell.execute_reply.started": "2025-03-09T11:36:40.644369Z",
          "shell.execute_reply": "2025-03-09T11:36:40.663643Z"
        },
        "id": "c_cTxq7lDhLD"
      },
      "outputs": [],
      "execution_count": null
    },
    {
      "cell_type": "code",
      "source": [
        "# class DeepFakeCNN(nn.Module):\n",
        "#     def __init__(self):\n",
        "#         super(DeepFakeCNN, self).__init__()\n",
        "#         self.cnn = nn.Sequential(\n",
        "#             nn.Conv2d(1, 32, kernel_size=3, padding=1),\n",
        "#             nn.ReLU(),\n",
        "#             nn.MaxPool2d(2),\n",
        "#             nn.Conv2d(32, 64, kernel_size=3, padding=1),\n",
        "#             nn.ReLU(),\n",
        "#             nn.MaxPool2d(2),\n",
        "#         )\n",
        "#         self.fc = nn.Sequential(\n",
        "#             nn.Flatten(),\n",
        "#             nn.Linear(64 * 10 * 125, 128),  # depends on input size — adjust if needed\n",
        "#             nn.ReLU(),\n",
        "#             nn.Dropout(0.5),\n",
        "#             nn.Linear(128, 1),\n",
        "#             nn.Sigmoid()\n",
        "#         )\n",
        "\n",
        "#     def forward(self, x):\n",
        "#         x = self.cnn(x)\n",
        "#         x = self.fc(x)\n",
        "#         return x\n"
      ],
      "metadata": {
        "trusted": true,
        "execution": {
          "iopub.status.busy": "2025-03-09T11:36:42.429687Z",
          "iopub.execute_input": "2025-03-09T11:36:42.429988Z",
          "iopub.status.idle": "2025-03-09T11:36:42.435641Z",
          "shell.execute_reply.started": "2025-03-09T11:36:42.429963Z",
          "shell.execute_reply": "2025-03-09T11:36:42.434941Z"
        },
        "id": "Gw-wmfqWDhLD"
      },
      "outputs": [],
      "execution_count": null
    },
    {
      "cell_type": "code",
      "source": [
        "class DeepFakeCNN_v2(nn.Module):\n",
        "    def __init__(self):\n",
        "        super(DeepFakeCNN_v2, self).__init__()\n",
        "        self.cnn = nn.Sequential(\n",
        "            nn.Conv2d(1, 32, kernel_size=3, padding=1),\n",
        "            nn.BatchNorm2d(32),\n",
        "            nn.ReLU(),\n",
        "            nn.MaxPool2d(2),\n",
        "\n",
        "            nn.Conv2d(32, 64, kernel_size=3, padding=1),\n",
        "            nn.BatchNorm2d(64),\n",
        "            nn.ReLU(),\n",
        "            nn.MaxPool2d(2),\n",
        "\n",
        "            nn.Conv2d(64, 128, kernel_size=3, padding=1),\n",
        "            nn.BatchNorm2d(128),\n",
        "            nn.ReLU(),\n",
        "            nn.AdaptiveAvgPool2d((1, 1)),  # Output: (128, 1, 1)\n",
        "        )\n",
        "        self.fc = nn.Sequential(\n",
        "            nn.Flatten(),                 # (batch, 128)\n",
        "            nn.Linear(128, 64),\n",
        "            nn.ReLU(),\n",
        "            nn.Dropout(0.3),\n",
        "            nn.Linear(64, 1)              # No Sigmoid here\n",
        "        )\n",
        "\n",
        "    def forward(self, x):\n",
        "        x = self.cnn(x)\n",
        "        x = self.fc(x)\n",
        "        return x  # logits"
      ],
      "metadata": {
        "trusted": true,
        "execution": {
          "iopub.status.busy": "2025-03-09T12:20:43.890856Z",
          "iopub.execute_input": "2025-03-09T12:20:43.891189Z",
          "iopub.status.idle": "2025-03-09T12:20:43.897077Z",
          "shell.execute_reply.started": "2025-03-09T12:20:43.891157Z",
          "shell.execute_reply": "2025-03-09T12:20:43.896226Z"
        },
        "id": "VODYDCzJDhLE"
      },
      "outputs": [],
      "execution_count": null
    },
    {
      "cell_type": "code",
      "source": [
        "device = torch.device(\"cuda\" if torch.cuda.is_available() else \"cpu\")\n",
        "model = DeepFakeCNN_v2().to(device)\n",
        "\n",
        "criterion = nn.BCEWithLogitsLoss()\n",
        "optimizer = optim.Adam(model.parameters(), lr=0.001)\n",
        "\n",
        "for epoch in range(10):\n",
        "    model.train()\n",
        "    total_loss = 0\n",
        "    for xb, yb in train_loader:\n",
        "        xb, yb = xb.to(device), yb.to(device).unsqueeze(1).float()\n",
        "\n",
        "        optimizer.zero_grad()\n",
        "        logits = model(xb)\n",
        "        loss = criterion(logits, yb)\n",
        "        loss.backward()\n",
        "        optimizer.step()\n",
        "        total_loss += loss.item()\n",
        "\n",
        "    # Validation\n",
        "    model.eval()\n",
        "    all_preds = []\n",
        "    all_labels = []\n",
        "    with torch.no_grad():\n",
        "        for xb, yb in val_loader:\n",
        "            xb = xb.to(device)\n",
        "            logits = model(xb).squeeze()\n",
        "            probs = torch.sigmoid(logits).cpu().numpy()\n",
        "            all_preds.extend(probs)\n",
        "            all_labels.extend(yb.numpy())\n",
        "\n",
        "    val_auc = roc_auc_score(all_labels, all_preds)\n",
        "    print(f\"Epoch {epoch+1}, Loss: {total_loss/len(train_loader):.4f}, Val AUC: {val_auc:.4f}\")\n"
      ],
      "metadata": {
        "trusted": true,
        "execution": {
          "iopub.status.busy": "2025-03-09T12:24:39.788467Z",
          "iopub.execute_input": "2025-03-09T12:24:39.788754Z",
          "iopub.status.idle": "2025-03-09T12:32:40.649937Z",
          "shell.execute_reply.started": "2025-03-09T12:24:39.78873Z",
          "shell.execute_reply": "2025-03-09T12:32:40.648964Z"
        },
        "id": "ZZqm28RRDhLE",
        "outputId": "d4827830-6345-4e93-bc27-270d74d0a2f2"
      },
      "outputs": [
        {
          "name": "stdout",
          "text": "Epoch 1, Loss: 0.4096, Val AUC: 0.9682\nEpoch 2, Loss: 0.2029, Val AUC: 0.9912\nEpoch 3, Loss: 0.1542, Val AUC: 0.9946\nEpoch 4, Loss: 0.1248, Val AUC: 0.9930\nEpoch 5, Loss: 0.1111, Val AUC: 0.9809\nEpoch 6, Loss: 0.0976, Val AUC: 0.9973\nEpoch 7, Loss: 0.0913, Val AUC: 0.9924\nEpoch 8, Loss: 0.0773, Val AUC: 0.9984\nEpoch 9, Loss: 0.0769, Val AUC: 0.9925\nEpoch 10, Loss: 0.0662, Val AUC: 0.9872\nEpoch 11, Loss: 0.0637, Val AUC: 0.9918\nEpoch 12, Loss: 0.0625, Val AUC: 0.9975\nEpoch 13, Loss: 0.0558, Val AUC: 0.7613\nEpoch 14, Loss: 0.0514, Val AUC: 0.9984\nEpoch 15, Loss: 0.0509, Val AUC: 0.9992\nEpoch 16, Loss: 0.0480, Val AUC: 0.9944\nEpoch 17, Loss: 0.0457, Val AUC: 0.9986\nEpoch 18, Loss: 0.0453, Val AUC: 0.9949\nEpoch 19, Loss: 0.0410, Val AUC: 0.9984\nEpoch 20, Loss: 0.0381, Val AUC: 0.9994\n",
          "output_type": "stream"
        }
      ],
      "execution_count": null
    },
    {
      "cell_type": "code",
      "source": [
        "# device = torch.device(\"cuda\" if torch.cuda.is_available() else \"cpu\")\n",
        "# model = DeepFakeCNN().to(device)\n",
        "\n",
        "# criterion = nn.BCELoss()\n",
        "# optimizer = optim.Adam(model.parameters(), lr=0.001)\n",
        "\n",
        "# for epoch in range(30):\n",
        "#     model.train()\n",
        "#     total_loss = 0\n",
        "#     for xb, yb in train_loader:\n",
        "#         xb, yb = xb.to(device), yb.to(device).unsqueeze(1)\n",
        "\n",
        "#         optimizer.zero_grad()\n",
        "#         outputs = model(xb)\n",
        "#         loss = criterion(outputs, yb)\n",
        "#         loss.backward()\n",
        "#         optimizer.step()\n",
        "#         total_loss += loss.item()\n",
        "\n",
        "#     # Validation ROC-AUC\n",
        "#     model.eval()\n",
        "#     all_preds = []\n",
        "#     all_labels = []\n",
        "#     with torch.no_grad():\n",
        "#         for xb, yb in val_loader:\n",
        "#             xb = xb.to(device)\n",
        "#             preds = model(xb).squeeze().cpu().numpy()\n",
        "#             all_preds.extend(preds)\n",
        "#             all_labels.extend(yb.numpy())\n",
        "\n",
        "#     val_auc = roc_auc_score(all_labels, all_preds)\n",
        "#     print(f\"Epoch {epoch+1}, Loss: {total_loss/len(train_loader):.4f}, Val AUC: {val_auc:.4f}\")\n"
      ],
      "metadata": {
        "trusted": true,
        "execution": {
          "iopub.status.busy": "2025-03-09T12:11:13.695044Z",
          "iopub.execute_input": "2025-03-09T12:11:13.695391Z",
          "iopub.status.idle": "2025-03-09T12:20:13.52136Z",
          "shell.execute_reply.started": "2025-03-09T12:11:13.695366Z",
          "shell.execute_reply": "2025-03-09T12:20:13.520443Z"
        },
        "id": "svT4vrs6DhLF",
        "outputId": "0cf61488-f40d-4f59-b211-a3ae7fd45d6a"
      },
      "outputs": [
        {
          "name": "stdout",
          "text": "Epoch 1, Loss: 0.6257, Val AUC: 0.9353\nEpoch 2, Loss: 0.2768, Val AUC: 0.9646\nEpoch 3, Loss: 0.2007, Val AUC: 0.9731\nEpoch 4, Loss: 0.1527, Val AUC: 0.9722\nEpoch 5, Loss: 0.1220, Val AUC: 0.9767\nEpoch 6, Loss: 0.0907, Val AUC: 0.9790\nEpoch 7, Loss: 0.0748, Val AUC: 0.9768\nEpoch 8, Loss: 0.0636, Val AUC: 0.9792\nEpoch 9, Loss: 0.0539, Val AUC: 0.9806\nEpoch 10, Loss: 0.0466, Val AUC: 0.9806\nEpoch 11, Loss: 0.0435, Val AUC: 0.9806\nEpoch 12, Loss: 0.0395, Val AUC: 0.9808\nEpoch 13, Loss: 0.0424, Val AUC: 0.9798\nEpoch 14, Loss: 0.0350, Val AUC: 0.9775\nEpoch 15, Loss: 0.0344, Val AUC: 0.9802\nEpoch 16, Loss: 0.0315, Val AUC: 0.9791\nEpoch 17, Loss: 0.0323, Val AUC: 0.9779\nEpoch 18, Loss: 0.0280, Val AUC: 0.9777\nEpoch 19, Loss: 0.0285, Val AUC: 0.9792\nEpoch 20, Loss: 0.0270, Val AUC: 0.9806\nEpoch 21, Loss: 0.0251, Val AUC: 0.9797\nEpoch 22, Loss: 0.0264, Val AUC: 0.9796\nEpoch 23, Loss: 0.0240, Val AUC: 0.9791\nEpoch 24, Loss: 0.0191, Val AUC: 0.9793\nEpoch 25, Loss: 0.0308, Val AUC: 0.9754\nEpoch 26, Loss: 0.0294, Val AUC: 0.9808\nEpoch 27, Loss: 0.0213, Val AUC: 0.9771\nEpoch 28, Loss: 0.0260, Val AUC: 0.9794\nEpoch 29, Loss: 0.0195, Val AUC: 0.9805\nEpoch 30, Loss: 0.0271, Val AUC: 0.9797\n",
          "output_type": "stream"
        }
      ],
      "execution_count": null
    },
    {
      "cell_type": "code",
      "source": [
        "test_features = []\n",
        "test_ids = []\n",
        "\n",
        "for sample in tqdm(test_data):\n",
        "    audio_array = sample[\"audio\"][\"array\"]\n",
        "    sr = sample[\"audio\"][\"sampling_rate\"]\n",
        "    mfcc = extract_features(audio_array, sr)\n",
        "    mfcc = normalize_per_sample(mfcc)\n",
        "    test_features.append(mfcc.astype(np.float32))\n",
        "    test_ids.append(sample[\"id\"])\n",
        "\n",
        "X_test = torch.tensor(np.array(test_features)).unsqueeze(1)  # Shape: (N, 1, 40, 500)\n",
        "test_dataset = torch.utils.data.TensorDataset(X_test)\n",
        "test_loader = DataLoader(test_dataset, batch_size=32)"
      ],
      "metadata": {
        "trusted": true,
        "execution": {
          "iopub.status.busy": "2025-03-09T11:43:49.010378Z",
          "iopub.execute_input": "2025-03-09T11:43:49.01068Z",
          "iopub.status.idle": "2025-03-09T11:44:41.004408Z",
          "shell.execute_reply.started": "2025-03-09T11:43:49.010654Z",
          "shell.execute_reply": "2025-03-09T11:44:41.003664Z"
        },
        "colab": {
          "referenced_widgets": [
            "d95731e5f1c24e608896bce1810b1b2c"
          ]
        },
        "id": "b0I6o3NcDhLF",
        "outputId": "f687689b-1b8d-4cd3-db36-0e70aab054da"
      },
      "outputs": [
        {
          "output_type": "display_data",
          "data": {
            "text/plain": "  0%|          | 0/2635 [00:00<?, ?it/s]",
            "application/vnd.jupyter.widget-view+json": {
              "version_major": 2,
              "version_minor": 0,
              "model_id": "d95731e5f1c24e608896bce1810b1b2c"
            }
          },
          "metadata": {}
        }
      ],
      "execution_count": null
    },
    {
      "cell_type": "code",
      "source": [
        "model.eval()\n",
        "all_preds = []\n",
        "\n",
        "with torch.no_grad():\n",
        "    for (xb,) in test_loader:\n",
        "        xb = xb.to(device)\n",
        "        preds = model(xb).squeeze().cpu().numpy()\n",
        "        all_preds.extend(preds)\n",
        "\n",
        "# Clamp predictions between 0 and 1 just to be safe\n",
        "all_preds = np.clip(all_preds, 0, 1)"
      ],
      "metadata": {
        "trusted": true,
        "execution": {
          "iopub.status.busy": "2025-03-09T11:44:42.125474Z",
          "iopub.execute_input": "2025-03-09T11:44:42.125776Z",
          "iopub.status.idle": "2025-03-09T11:44:42.716424Z",
          "shell.execute_reply.started": "2025-03-09T11:44:42.12575Z",
          "shell.execute_reply": "2025-03-09T11:44:42.71534Z"
        },
        "id": "HWo0T2N1DhLG"
      },
      "outputs": [],
      "execution_count": null
    },
    {
      "cell_type": "code",
      "source": [
        "all_preds[0]"
      ],
      "metadata": {
        "trusted": true,
        "execution": {
          "iopub.status.busy": "2025-03-09T11:48:12.395518Z",
          "iopub.execute_input": "2025-03-09T11:48:12.39582Z",
          "iopub.status.idle": "2025-03-09T11:48:12.40103Z",
          "shell.execute_reply.started": "2025-03-09T11:48:12.395795Z",
          "shell.execute_reply": "2025-03-09T11:48:12.400159Z"
        },
        "id": "5GW6H8V1DhLG",
        "outputId": "4120c017-7148-47d9-ec33-8b04638853e0"
      },
      "outputs": [
        {
          "execution_count": 30,
          "output_type": "execute_result",
          "data": {
            "text/plain": "0.027463716"
          },
          "metadata": {}
        }
      ],
      "execution_count": null
    },
    {
      "cell_type": "code",
      "source": [
        "submission = pd.DataFrame({\n",
        "    \"id\": test_ids,\n",
        "    \"is_tts\": all_preds  # Probabilities (float between 0 and 1)\n",
        "})\n",
        "\n",
        "submission.to_csv(\"submission.csv\", index=False)"
      ],
      "metadata": {
        "trusted": true,
        "execution": {
          "iopub.status.busy": "2025-03-09T11:44:44.258017Z",
          "iopub.execute_input": "2025-03-09T11:44:44.258386Z",
          "iopub.status.idle": "2025-03-09T11:44:44.274152Z",
          "shell.execute_reply.started": "2025-03-09T11:44:44.258356Z",
          "shell.execute_reply": "2025-03-09T11:44:44.273334Z"
        },
        "id": "WamRcedaDhLG"
      },
      "outputs": [],
      "execution_count": null
    },
    {
      "cell_type": "code",
      "source": [
        "submission"
      ],
      "metadata": {
        "trusted": true,
        "execution": {
          "iopub.status.busy": "2025-03-09T11:47:48.601878Z",
          "iopub.execute_input": "2025-03-09T11:47:48.602199Z",
          "iopub.status.idle": "2025-03-09T11:47:48.611486Z",
          "shell.execute_reply.started": "2025-03-09T11:47:48.602172Z",
          "shell.execute_reply": "2025-03-09T11:47:48.610693Z"
        },
        "id": "vm3VaY7CDhLH",
        "outputId": "776acc03-c078-4290-a411-728dc76b565f"
      },
      "outputs": [
        {
          "execution_count": 28,
          "output_type": "execute_result",
          "data": {
            "text/plain": "                        id        is_tts\n0        ASM_F_ANGER_00109  2.746372e-02\n1        ASM_F_ANGER_00127  9.877609e-01\n2        ASM_F_ANGER_00386  7.815237e-01\n3        ASM_F_ANGER_00103  9.999999e-01\n4        ASM_F_ANGER_00434  4.835274e-03\n...                    ...           ...\n2630  TAM_F_SURPRISE_00387  9.999459e-01\n2631  TAM_F_SURPRISE_00173  9.982039e-01\n2632  TAM_F_SURPRISE_00718  4.341151e-07\n2633  TAM_F_SURPRISE_00127  9.999890e-01\n2634  TAM_F_SURPRISE_00282  4.373714e-01\n\n[2635 rows x 2 columns]",
            "text/html": "<div>\n<style scoped>\n    .dataframe tbody tr th:only-of-type {\n        vertical-align: middle;\n    }\n\n    .dataframe tbody tr th {\n        vertical-align: top;\n    }\n\n    .dataframe thead th {\n        text-align: right;\n    }\n</style>\n<table border=\"1\" class=\"dataframe\">\n  <thead>\n    <tr style=\"text-align: right;\">\n      <th></th>\n      <th>id</th>\n      <th>is_tts</th>\n    </tr>\n  </thead>\n  <tbody>\n    <tr>\n      <th>0</th>\n      <td>ASM_F_ANGER_00109</td>\n      <td>2.746372e-02</td>\n    </tr>\n    <tr>\n      <th>1</th>\n      <td>ASM_F_ANGER_00127</td>\n      <td>9.877609e-01</td>\n    </tr>\n    <tr>\n      <th>2</th>\n      <td>ASM_F_ANGER_00386</td>\n      <td>7.815237e-01</td>\n    </tr>\n    <tr>\n      <th>3</th>\n      <td>ASM_F_ANGER_00103</td>\n      <td>9.999999e-01</td>\n    </tr>\n    <tr>\n      <th>4</th>\n      <td>ASM_F_ANGER_00434</td>\n      <td>4.835274e-03</td>\n    </tr>\n    <tr>\n      <th>...</th>\n      <td>...</td>\n      <td>...</td>\n    </tr>\n    <tr>\n      <th>2630</th>\n      <td>TAM_F_SURPRISE_00387</td>\n      <td>9.999459e-01</td>\n    </tr>\n    <tr>\n      <th>2631</th>\n      <td>TAM_F_SURPRISE_00173</td>\n      <td>9.982039e-01</td>\n    </tr>\n    <tr>\n      <th>2632</th>\n      <td>TAM_F_SURPRISE_00718</td>\n      <td>4.341151e-07</td>\n    </tr>\n    <tr>\n      <th>2633</th>\n      <td>TAM_F_SURPRISE_00127</td>\n      <td>9.999890e-01</td>\n    </tr>\n    <tr>\n      <th>2634</th>\n      <td>TAM_F_SURPRISE_00282</td>\n      <td>4.373714e-01</td>\n    </tr>\n  </tbody>\n</table>\n<p>2635 rows × 2 columns</p>\n</div>"
          },
          "metadata": {}
        }
      ],
      "execution_count": null
    },
    {
      "cell_type": "code",
      "source": [],
      "metadata": {
        "trusted": true,
        "id": "4Uc5zVWvDhLH"
      },
      "outputs": [],
      "execution_count": null
    }
  ]
}